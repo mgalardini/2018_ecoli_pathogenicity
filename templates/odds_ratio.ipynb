{
 "cells": [
  {
   "cell_type": "code",
   "execution_count": null,
   "metadata": {},
   "outputs": [],
   "source": [
    "odds_ratio = '../out/associations/odds_ratio.tsv'\n",
    "filtered = '../out/associations/filtered_cont_lmm_rtab.tsv'"
   ]
  },
  {
   "cell_type": "code",
   "execution_count": null,
   "metadata": {},
   "outputs": [],
   "source": [
    "# plotting imports\n",
    "%matplotlib inline\n",
    "\n",
    "import matplotlib.pyplot as plt\n",
    "import seaborn as sns\n",
    "\n",
    "sns.set_style('white')\n",
    "\n",
    "plt.rc('font', size=11)\n",
    "plt.rc('xtick', labelsize=11)\n",
    "plt.rc('ytick', labelsize=11)\n",
    "plt.rc('axes', labelsize=12, titlesize=12)\n",
    "plt.rc('legend', fontsize=11)"
   ]
  },
  {
   "cell_type": "code",
   "execution_count": null,
   "metadata": {},
   "outputs": [],
   "source": [
    "import numpy as np\n",
    "import pandas as pd"
   ]
  },
  {
   "cell_type": "code",
   "execution_count": null,
   "metadata": {},
   "outputs": [],
   "source": [
    "f = pd.read_table(filtered,\n",
    "                  index_col=0)"
   ]
  },
  {
   "cell_type": "code",
   "execution_count": null,
   "metadata": {},
   "outputs": [],
   "source": [
    "m = pd.read_table(odds_ratio,\n",
    "                  index_col=0)\n",
    "m['lrt-pvalue'] = [float(x)\n",
    "                   if x != 'NAN'\n",
    "                   else np.nan\n",
    "                   for x in m['lrt-pvalue']]\n",
    "m = m.dropna()"
   ]
  },
  {
   "cell_type": "code",
   "execution_count": null,
   "metadata": {},
   "outputs": [],
   "source": [
    "plt.figure(figsize=(4, 4))\n",
    "\n",
    "plt.plot(-np.log10(m['lrt-pvalue']),\n",
    "         m['odds-ratio'],\n",
    "         'ko',\n",
    "         alpha=0.1,\n",
    "         label='_')\n",
    "\n",
    "plt.plot(-np.log10(m.loc[m.index.intersection(f.index)]['lrt-pvalue']),\n",
    "         m.loc[m.index.intersection(f.index)]['odds-ratio'],\n",
    "         'ro',\n",
    "         label='associated OGs')\n",
    "\n",
    "plt.legend(loc='center left',\n",
    "           bbox_to_anchor=(1, 0.5),\n",
    "           frameon=True)\n",
    "\n",
    "plt.xlabel('OG association $-log_{10}(pvalue)$')\n",
    "plt.ylabel('OG odds ratio');"
   ]
  }
 ],
 "metadata": {
  "kernelspec": {
   "display_name": "Python 3",
   "language": "python",
   "name": "python3"
  },
  "language_info": {
   "codemirror_mode": {
    "name": "ipython",
    "version": 3
   },
   "file_extension": ".py",
   "mimetype": "text/x-python",
   "name": "python",
   "nbconvert_exporter": "python",
   "pygments_lexer": "ipython3",
   "version": "3.6.3"
  }
 },
 "nbformat": 4,
 "nbformat_minor": 2
}
