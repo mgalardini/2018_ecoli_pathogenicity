{
 "cells": [
  {
   "cell_type": "code",
   "execution_count": null,
   "metadata": {},
   "outputs": [],
   "source": [
    "odds_ratio = '../out/associations/odds_ratio.tsv'\n",
    "associated = '../out/associations/associated_ogs.txt'\n",
    "names = '../out/associations/associated_ogs.final.tsv'\n",
    "kmer_hits = '../out/associations/summary_cont_lmm_kmer.tsv'"
   ]
  },
  {
   "cell_type": "code",
   "execution_count": null,
   "metadata": {},
   "outputs": [],
   "source": [
    "# plotting imports\n",
    "%matplotlib inline\n",
    "\n",
    "import matplotlib.pyplot as plt\n",
    "import seaborn as sns\n",
    "from adjustText import adjust_text\n",
    "\n",
    "sns.set_style('white')\n",
    "\n",
    "plt.rc('font', size=11)\n",
    "plt.rc('xtick', labelsize=11)\n",
    "plt.rc('ytick', labelsize=11)\n",
    "plt.rc('axes', labelsize=12, titlesize=12)\n",
    "plt.rc('legend', fontsize=11)"
   ]
  },
  {
   "cell_type": "code",
   "execution_count": null,
   "metadata": {},
   "outputs": [],
   "source": [
    "import numpy as np\n",
    "import pandas as pd"
   ]
  },
  {
   "cell_type": "code",
   "execution_count": null,
   "metadata": {},
   "outputs": [],
   "source": [
    "f = pd.read_table(associated,\n",
    "                  index_col=0,\n",
    "                  header=None)"
   ]
  },
  {
   "cell_type": "code",
   "execution_count": null,
   "metadata": {},
   "outputs": [],
   "source": [
    "m = pd.read_table(odds_ratio,\n",
    "                  index_col=0)\n",
    "m['lrt-pvalue'] = [float(x)\n",
    "                   if x != 'NAN'\n",
    "                   else np.nan\n",
    "                   for x in m['lrt-pvalue']]\n",
    "m = m.dropna()"
   ]
  },
  {
   "cell_type": "code",
   "execution_count": null,
   "metadata": {},
   "outputs": [],
   "source": [
    "u = pd.read_csv(names, sep='\\t')\n",
    "n = u.set_index('query')['preferred_og_name'].to_dict()\n",
    "nsize = u.set_index('query')['representative_protein_length']"
   ]
  },
  {
   "cell_type": "code",
   "execution_count": null,
   "metadata": {},
   "outputs": [],
   "source": [
    "k = pd.read_table(kmer_hits,\n",
    "                  index_col=0)\n",
    "k['normalized_hits'] = (k['hits'] / nsize)\n",
    "# k.index = [n.get(x, x)\n",
    "#            for x in k.index]\n",
    "k = k[k['specific_hits'] > 0]\n",
    "kh = k['normalized_hits'].to_dict()"
   ]
  },
  {
   "cell_type": "code",
   "execution_count": null,
   "metadata": {},
   "outputs": [],
   "source": [
    "m.loc[m.index.intersection(kh),\n",
    "      'normalized_hits'] = [kh[x]\n",
    "                            for x in m.index.intersection(kh)]"
   ]
  },
  {
   "cell_type": "code",
   "execution_count": null,
   "metadata": {},
   "outputs": [],
   "source": [
    "m['logpvalue'] = -np.log10(m['lrt-pvalue'])"
   ]
  },
  {
   "cell_type": "code",
   "execution_count": null,
   "metadata": {},
   "outputs": [],
   "source": [
    "plt.figure(figsize=(6.5, 6.5))\n",
    "\n",
    "plt.plot(m.loc[m.index.difference(m.dropna().index)]['odds-ratio'],\n",
    "         -np.log10(m.loc[m.index.difference(m.dropna().index)]['lrt-pvalue']),\n",
    "         'k.',\n",
    "         alpha=0.3,\n",
    "         label='_')\n",
    "\n",
    "sns.scatterplot(data=m.reset_index().rename(columns={'normalized_hits':\n",
    "                                                     'Normalized hits'}),\n",
    "                x='odds-ratio',\n",
    "                y='logpvalue',\n",
    "                size='Normalized hits',\n",
    "                color='r',\n",
    "                sizes=(20, 200))\n",
    "\n",
    "texts = [plt.text(x, y, n.get(t, t),\n",
    "                  ha='center', va='center')\n",
    "         for (x, y), t in zip(m.dropna()[['odds-ratio',\n",
    "                                 'logpvalue']].values,\n",
    "                              m.dropna().index)]\n",
    "\n",
    "adjust_text(texts,\n",
    "            arrowprops=dict(arrowstyle='-', color='k'),\n",
    "            force_points=0.5\n",
    "            )\n",
    "\n",
    "plt.legend(loc='center left',\n",
    "           bbox_to_anchor=(1, 0.5),\n",
    "           frameon=True)\n",
    "\n",
    "plt.xlabel('OG odds ratio')\n",
    "plt.ylabel('$-log_{10}(pvalue)$')\n",
    "\n",
    "plt.savefig('odds_ratio.png',\n",
    "            dpi=300, bbox_inches='tight',\n",
    "            transparent=True)\n",
    "plt.savefig('odds_ratio.svg',\n",
    "            dpi=300, bbox_inches='tight',\n",
    "            transparent=True);"
   ]
  }
 ],
 "metadata": {
  "kernelspec": {
   "display_name": "Python 3",
   "language": "python",
   "name": "python3"
  },
  "language_info": {
   "codemirror_mode": {
    "name": "ipython",
    "version": 3
   },
   "file_extension": ".py",
   "mimetype": "text/x-python",
   "name": "python",
   "nbconvert_exporter": "python",
   "pygments_lexer": "ipython3",
   "version": "3.6.7"
  }
 },
 "nbformat": 4,
 "nbformat_minor": 2
}
