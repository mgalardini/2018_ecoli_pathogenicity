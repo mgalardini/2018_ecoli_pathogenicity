{
 "cells": [
  {
   "cell_type": "code",
   "execution_count": null,
   "metadata": {},
   "outputs": [],
   "source": [
    "odds_ratio = '../out/associations/odds_ratio.tsv'\n",
    "associated = '../out/associations/associated_ogs.txt'\n",
    "names = '../out/associations/associated_ogs.final.tsv'\n",
    "kmer_hits = '../out/associations/summary_cont_lmm_kmer.tsv'\n",
    "hpi = '../data/hpi.tsv'\n",
    "others = '../data/others.tsv'"
   ]
  },
  {
   "cell_type": "code",
   "execution_count": null,
   "metadata": {},
   "outputs": [],
   "source": [
    "# plotting imports\n",
    "%matplotlib inline\n",
    "\n",
    "import matplotlib.pyplot as plt\n",
    "import seaborn as sns\n",
    "from adjustText import adjust_text\n",
    "\n",
    "sns.set_style('white')\n",
    "\n",
    "plt.rc('font', size=11)\n",
    "plt.rc('xtick', labelsize=11)\n",
    "plt.rc('ytick', labelsize=11)\n",
    "plt.rc('axes', labelsize=12, titlesize=12)\n",
    "plt.rc('legend', fontsize=11)"
   ]
  },
  {
   "cell_type": "code",
   "execution_count": null,
   "metadata": {},
   "outputs": [],
   "source": [
    "import numpy as np\n",
    "import pandas as pd"
   ]
  },
  {
   "cell_type": "code",
   "execution_count": null,
   "metadata": {},
   "outputs": [],
   "source": [
    "rhpi = [x.rstrip().split()[0]\n",
    "       for x in open(hpi)]\n",
    "hpi = [x.rstrip().split()[1]\n",
    "       for x in open(hpi)]"
   ]
  },
  {
   "cell_type": "code",
   "execution_count": null,
   "metadata": {},
   "outputs": [],
   "source": [
    "other = {}\n",
    "rother = {}\n",
    "for l in open(others):\n",
    "    operon = l.rstrip().split()[0]\n",
    "    other[operon] = {x.split(',')[0]: x.split(',')[1]\n",
    "                      for x in l.rstrip().split()[1:]}\n",
    "    rother[operon] = {x.split(',')[1]: x.split(',')[0]\n",
    "                       for x in l.rstrip().split()[1:]}"
   ]
  },
  {
   "cell_type": "code",
   "execution_count": null,
   "metadata": {},
   "outputs": [],
   "source": [
    "f = pd.read_table(associated,\n",
    "                  index_col=0,\n",
    "                  header=None)"
   ]
  },
  {
   "cell_type": "code",
   "execution_count": null,
   "metadata": {},
   "outputs": [],
   "source": [
    "m = pd.read_table(odds_ratio,\n",
    "                  index_col=0)\n",
    "m['lrt-pvalue'] = [float(x)\n",
    "                   if x != 'NAN'\n",
    "                   else np.nan\n",
    "                   for x in m['lrt-pvalue']]\n",
    "m = m.dropna()"
   ]
  },
  {
   "cell_type": "code",
   "execution_count": null,
   "metadata": {},
   "outputs": [],
   "source": [
    "u = pd.read_csv(names, sep='\\t')\n",
    "n = u.set_index('query')['preferred_og_name'].to_dict()\n",
    "nsize = u.set_index('query')['representative_protein_length']"
   ]
  },
  {
   "cell_type": "code",
   "execution_count": null,
   "metadata": {},
   "outputs": [],
   "source": [
    "for k,v in other.items():\n",
    "    n[k] = v"
   ]
  },
  {
   "cell_type": "code",
   "execution_count": null,
   "metadata": {},
   "outputs": [],
   "source": [
    "k = pd.read_table(kmer_hits,\n",
    "                  index_col=0)\n",
    "k['normalized_hits'] = (k['length'] / nsize)\n",
    "# k.index = [n.get(x, x)\n",
    "#            for x in k.index]\n",
    "k = k[k['specific_hits'] > 0]\n",
    "kh = k['normalized_hits'].to_dict()"
   ]
  },
  {
   "cell_type": "code",
   "execution_count": null,
   "metadata": {},
   "outputs": [],
   "source": [
    "m.loc[m.index.intersection(kh),\n",
    "      'normalized_hits'] = [kh[x]\n",
    "                            for x in m.index.intersection(kh)]"
   ]
  },
  {
   "cell_type": "code",
   "execution_count": null,
   "metadata": {},
   "outputs": [],
   "source": [
    "m['logpvalue'] = -np.log10(m['lrt-pvalue'])"
   ]
  },
  {
   "cell_type": "code",
   "execution_count": null,
   "metadata": {},
   "outputs": [],
   "source": [
    "plt.figure(figsize=(3.5, 3.5))\n",
    "\n",
    "plt.plot(m.loc[rhpi]['odds-ratio'],\n",
    "         -np.log10(m.loc[rhpi]['lrt-pvalue']),\n",
    "         'o',\n",
    "         color=sns.xkcd_rgb['dark sky blue'],\n",
    "         label='HPI',\n",
    "         zorder=10)\n",
    "plt.plot(m.loc[other['aerobactin']]['odds-ratio'],\n",
    "         -np.log10(m.loc[other['aerobactin']]['lrt-pvalue']),\n",
    "         'o',\n",
    "         color=sns.xkcd_rgb['bluish green'],\n",
    "         label='Aerobactin',\n",
    "         zorder=9)\n",
    "plt.plot(m.loc[other['sitABCD']]['odds-ratio'],\n",
    "         -np.log10(m.loc[other['sitABCD']]['lrt-pvalue']),\n",
    "         'o',\n",
    "         color=sns.xkcd_rgb['yellow orange'],\n",
    "         label='sitABCD',\n",
    "         zorder=8)\n",
    "plt.plot(m.loc[m.index.intersection(k[(k['OG_af'] > 0.9) & (abs(k['OG_af'] - k['avg_af']) >= 0.1)].index)]['odds-ratio'],\n",
    "         -np.log10(m.loc[m.index.intersection(k[(k['OG_af'] > 0.9) & (abs(k['OG_af'] - k['avg_af']) >= 0.1)].index)]['lrt-pvalue']),\n",
    "         'o',\n",
    "         color=sns.xkcd_rgb['pinkish red'],\n",
    "         label='Core genes',\n",
    "         zorder=5)\n",
    "plt.plot(m.loc[m.index.intersection(k.index)]['odds-ratio'],\n",
    "         -np.log10(m.loc[m.index.intersection(k.index)]['lrt-pvalue']),\n",
    "         'ko',\n",
    "#          alpha=0.3,\n",
    "         label='Other genes',\n",
    "         zorder=0)\n",
    "\n",
    "# sns.scatterplot(data=m.loc[m.index.difference(rhpi).difference(m.index.difference(m.dropna().index))].reset_index().rename(columns={'normalized_hits':\n",
    "#                                                                                   'Gene length fraction'}),\n",
    "#                 x='odds-ratio',\n",
    "#                 y='logpvalue',\n",
    "# #                 size='Gene length fraction',\n",
    "#                 color='r',\n",
    "#                 sizes=(50, 200),\n",
    "#                 legend=False\n",
    "#                )\n",
    "# sns.scatterplot(data=m.loc[rhpi].reset_index().rename(columns={'normalized_hits':\n",
    "#                                                               'Gene length fraction'}),\n",
    "#                 x='odds-ratio',\n",
    "#                 y='logpvalue',\n",
    "# #                 size='Gene length fraction',\n",
    "#                 color=sns.xkcd_rgb['dark sky blue'],\n",
    "#                 sizes=(50, 200),\n",
    "#                 legend=False)\n",
    "\n",
    "# texts = [plt.text(x, y, n.get(t, t),\n",
    "#                   ha='center', va='center')\n",
    "#          for (x, y), t in zip(m.dropna()[['odds-ratio',\n",
    "#                                  'logpvalue']].values,\n",
    "#                               m.dropna().index)\n",
    "#          if y > 8 and t not in rhpi and not n.get(t, t).startswith('group') ]\n",
    "\n",
    "# adjust_text(texts,\n",
    "#             arrowprops=dict(arrowstyle='-', color='k'),\n",
    "#             force_points=0.5\n",
    "#             )\n",
    "\n",
    "plt.legend(loc='upper left',\n",
    "           bbox_to_anchor=(0, 1),\n",
    "           frameon=True)\n",
    "\n",
    "plt.xlabel('Orthologous group odds ratio')\n",
    "plt.ylabel('$-log_{10}(pvalue)$')\n",
    "\n",
    "plt.savefig('odds_ratio.png',\n",
    "            dpi=300, bbox_inches='tight',\n",
    "            transparent=True)\n",
    "plt.savefig('odds_ratio.svg',\n",
    "            dpi=300, bbox_inches='tight',\n",
    "            transparent=True);"
   ]
  }
 ],
 "metadata": {
  "kernelspec": {
   "display_name": "Python 3",
   "language": "python",
   "name": "python3"
  },
  "language_info": {
   "codemirror_mode": {
    "name": "ipython",
    "version": 3
   },
   "file_extension": ".py",
   "mimetype": "text/x-python",
   "name": "python",
   "nbconvert_exporter": "python",
   "pygments_lexer": "ipython3",
   "version": "3.7.5"
  }
 },
 "nbformat": 4,
 "nbformat_minor": 4
}
