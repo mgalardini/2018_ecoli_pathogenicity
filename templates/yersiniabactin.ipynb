{
 "cells": [
  {
   "cell_type": "code",
   "execution_count": null,
   "metadata": {},
   "outputs": [],
   "source": [
    "data = '../data/yersiniabactin.tsv'"
   ]
  },
  {
   "cell_type": "code",
   "execution_count": null,
   "metadata": {},
   "outputs": [],
   "source": [
    "# plotting imports\n",
    "%matplotlib inline\n",
    "\n",
    "import matplotlib.pyplot as plt\n",
    "import seaborn as sns\n",
    "\n",
    "sns.set_style('white')\n",
    "\n",
    "plt.rc('font', size=11)\n",
    "plt.rc('xtick', labelsize=11)\n",
    "plt.rc('ytick', labelsize=11)\n",
    "plt.rc('axes', labelsize=12, titlesize=12)\n",
    "plt.rc('legend', fontsize=11)"
   ]
  },
  {
   "cell_type": "code",
   "execution_count": null,
   "metadata": {},
   "outputs": [],
   "source": [
    "import numpy as np\n",
    "import pandas as pd"
   ]
  },
  {
   "cell_type": "code",
   "execution_count": null,
   "metadata": {},
   "outputs": [],
   "source": [
    "m = pd.read_csv(data, sep='\\t')"
   ]
  },
  {
   "cell_type": "code",
   "execution_count": null,
   "metadata": {},
   "outputs": [],
   "source": [
    "t = m.drop('Number', axis=1).set_index('Isolate').stack().reset_index()"
   ]
  },
  {
   "cell_type": "code",
   "execution_count": null,
   "metadata": {},
   "outputs": [],
   "source": [
    "order = ['NILS9',\n",
    "         'NILS9 Δirp2',\n",
    "         'NILS46',\n",
    "         'NILS46 Δirp2',\n",
    "         'HB101 (-)',\n",
    "         'DH5α (-)',\n",
    "         'SE15 (+)']"
   ]
  },
  {
   "cell_type": "code",
   "execution_count": null,
   "metadata": {},
   "outputs": [],
   "source": [
    "negative = ['HB101 (-)',\n",
    "            'DH5α (-)']"
   ]
  },
  {
   "cell_type": "code",
   "execution_count": null,
   "metadata": {},
   "outputs": [],
   "source": [
    "plt.figure(figsize=(5, 5))\n",
    "\n",
    "sns.swarmplot(data=t, y=0, x='Isolate', order=order,\n",
    "              palette=[sns.xkcd_rgb['dark grey']] * 7,\n",
    "              size=7,\n",
    "              alpha=0.7)\n",
    "sns.barplot(data=t, y=0, x='Isolate',\n",
    "            color=sns.xkcd_rgb['light grey'],\n",
    "            alpha=0.7, ci=None, order=order)\n",
    "\n",
    "plt.xticks(rotation=45)\n",
    "\n",
    "plt.ylabel('Relative light units')\n",
    "plt.xlabel('Strain')\n",
    "\n",
    "plt.axhline(t[t['Isolate'].isin(negative)][0].mean() +\n",
    "            t[t['Isolate'].isin(negative)][0].std(),\n",
    "            color=sns.xkcd_rgb['pale red'],\n",
    "            ls='dashed')\n",
    "\n",
    "ax = plt.gca()\n",
    "# plt.ticklabel_format(axis='x', style='sci', scilimits=(0, 0))\n",
    "\n",
    "plt.savefig('yersiniabactin.png',\n",
    "            dpi=300, bbox_inches='tight',\n",
    "            transparent=True)\n",
    "plt.savefig('yersiniabactin.svg',\n",
    "            dpi=300, bbox_inches='tight',\n",
    "            transparent=True);"
   ]
  }
 ],
 "metadata": {
  "kernelspec": {
   "display_name": "Python 3",
   "language": "python",
   "name": "python3"
  },
  "language_info": {
   "codemirror_mode": {
    "name": "ipython",
    "version": 3
   },
   "file_extension": ".py",
   "mimetype": "text/x-python",
   "name": "python",
   "nbconvert_exporter": "python",
   "pygments_lexer": "ipython3",
   "version": "3.7.5"
  }
 },
 "nbformat": 4,
 "nbformat_minor": 2
}
