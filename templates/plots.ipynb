{
 "cells": [
  {
   "cell_type": "code",
   "execution_count": null,
   "metadata": {},
   "outputs": [],
   "source": [
    "dists = '../out/associations/gene_distances.tsv'\n",
    "kmer_hits = '../out/associations/summary_cont_lmm_kmer.tsv'\n",
    "names = '../out/associations/associated_ogs.final.tsv'\n",
    "hpi = '../data/hpi.tsv'"
   ]
  },
  {
   "cell_type": "code",
   "execution_count": null,
   "metadata": {},
   "outputs": [],
   "source": [
    "# plotting imports\n",
    "%matplotlib inline\n",
    "\n",
    "import matplotlib.pyplot as plt\n",
    "import seaborn as sns\n",
    "from adjustText import adjust_text\n",
    "\n",
    "sns.set_style('white')\n",
    "\n",
    "plt.rc('font', size=11)\n",
    "plt.rc('xtick', labelsize=11)\n",
    "plt.rc('ytick', labelsize=11)\n",
    "plt.rc('axes', labelsize=12, titlesize=12)\n",
    "plt.rc('legend', fontsize=11)"
   ]
  },
  {
   "cell_type": "code",
   "execution_count": null,
   "metadata": {},
   "outputs": [],
   "source": [
    "import numpy as np\n",
    "import pandas as pd\n",
    "import networkx as nx"
   ]
  },
  {
   "cell_type": "code",
   "execution_count": null,
   "metadata": {},
   "outputs": [],
   "source": [
    "rhpi = [x.rstrip().split()[0]\n",
    "       for x in open(hpi)]\n",
    "hpi = [x.rstrip().split()[1]\n",
    "       for x in open(hpi)]"
   ]
  },
  {
   "cell_type": "code",
   "execution_count": null,
   "metadata": {},
   "outputs": [],
   "source": [
    "u = pd.read_table(names)\n",
    "n = u.set_index('query')['preferred_og_name'].to_dict()\n",
    "nsize = u.set_index('query')['representative_protein_length']"
   ]
  },
  {
   "cell_type": "code",
   "execution_count": null,
   "metadata": {},
   "outputs": [],
   "source": [
    "m = pd.read_table(dists)"
   ]
  },
  {
   "cell_type": "code",
   "execution_count": null,
   "metadata": {},
   "outputs": [],
   "source": [
    "k = pd.read_table(kmer_hits,\n",
    "                  index_col=0)\n",
    "k['normalized_hits'] = (k['hits'] / nsize)\n",
    "k.index = [n.get(x, x)\n",
    "           for x in k.index]\n",
    "k = k[k['specific_hits'] > 0]\n",
    "kh = k['normalized_hits'].to_dict()"
   ]
  },
  {
   "cell_type": "markdown",
   "metadata": {},
   "source": [
    "Top gene hits\n",
    "---"
   ]
  },
  {
   "cell_type": "code",
   "execution_count": null,
   "metadata": {},
   "outputs": [],
   "source": [
    "k.sort_values('normalized_hits',\n",
    "              ascending=False)"
   ]
  },
  {
   "cell_type": "code",
   "execution_count": null,
   "metadata": {},
   "outputs": [],
   "source": [
    "plt.figure(figsize=(3.5, 3.5))\n",
    "\n",
    "sp = sns.scatterplot(x='avg_maf',\n",
    "                     y='maxp',\n",
    "                     size='Gene length fraction',\n",
    "                     data=k.loc[k.index.difference(hpi)].rename(columns={'normalized_hits':\n",
    "                                                                         'Gene length fraction'}),\n",
    "                     color='k',\n",
    "                     sizes=(20, 200))\n",
    "sp = sns.scatterplot(x='avg_maf',\n",
    "                     y='maxp',\n",
    "                     size='Gene length fraction',\n",
    "                     data=k.loc[hpi].rename(columns={'normalized_hits':\n",
    "                                                     'Gene length fraction'}),\n",
    "                     color=sns.xkcd_rgb['dark sky blue'],\n",
    "                     sizes=(20, 200), \n",
    "                     legend=False)\n",
    "\n",
    "texts = [plt.text(x, y, t,\n",
    "                  ha='center', va='center')\n",
    "         for (x, y), t in zip(k[['avg_maf', 'maxp']].values,\n",
    "                              k.index)\n",
    "         if y > 15 and t not in hpi and not t.startswith('group')]\n",
    "adjust_text(texts,\n",
    "            arrowprops=dict(arrowstyle='-', color='k'),\n",
    "            force_points=1.5)\n",
    "\n",
    "plt.xlabel('Average MAF')\n",
    "plt.ylabel('$-log_{10}(pvalue)$')\n",
    "\n",
    "plt.savefig('hits.png',\n",
    "            dpi=300, bbox_inches='tight',\n",
    "            transparent=True)\n",
    "plt.savefig('hits.svg',\n",
    "            dpi=300, bbox_inches='tight',\n",
    "            transparent=True);"
   ]
  },
  {
   "cell_type": "code",
   "execution_count": null,
   "metadata": {},
   "outputs": [],
   "source": [
    "k.loc[k.index.intersection(hpi), 'Gene'] = 'HPI'\n",
    "k.loc[k.index.difference(hpi), 'Gene'] = 'Other'"
   ]
  },
  {
   "cell_type": "code",
   "execution_count": null,
   "metadata": {},
   "outputs": [],
   "source": [
    "plt.figure(figsize=(3.5, 3.5))\n",
    "\n",
    "sp = sns.scatterplot(x='OG_af',\n",
    "                     y='avg_af',\n",
    "                     hue='Gene',\n",
    "                     size='$-log_{10}(pvalue)$',\n",
    "                     data=k.rename(columns={'maxp':\n",
    "                                            '$-log_{10}(pvalue)$'}),\n",
    "                     palette=[sns.xkcd_rgb['dark sky blue'], 'k'],\n",
    "                     hue_order=['HPI', 'Other'],\n",
    "                     sizes=(20, 200))\n",
    "\n",
    "plt.plot([-0.05, 1.05],\n",
    "         [-0.05, 1.05],\n",
    "         '--',\n",
    "         color=sns.xkcd_rgb['grey'])\n",
    "\n",
    "plt.xlim(-0.05, 1.05)\n",
    "plt.ylim(-0.05, 1.05)\n",
    "\n",
    "plt.legend(loc='center left',\n",
    "           bbox_to_anchor=(1, 0.5))\n",
    "\n",
    "texts = [plt.text(z, x, t,\n",
    "                  ha='center', va='center')\n",
    "         for (x, y, z), t in zip(k[['avg_af', 'maxp', 'OG_af']].values,\n",
    "                              k.index)\n",
    "         if y > 15 and t not in hpi and not t.startswith('group')]\n",
    "adjust_text(texts,\n",
    "            arrowprops=dict(arrowstyle='-', color='k'),\n",
    "            force_points=2)\n",
    "\n",
    "plt.xlabel('Orthologous group AF')\n",
    "plt.ylabel('Unitigs average AF')\n",
    "\n",
    "plt.savefig('unitigs_og.png',\n",
    "            dpi=300, bbox_inches='tight',\n",
    "            transparent=True)\n",
    "plt.savefig('unitigs_og.svg',\n",
    "            dpi=300, bbox_inches='tight',\n",
    "            transparent=True);"
   ]
  },
  {
   "cell_type": "markdown",
   "metadata": {},
   "source": [
    "Gene hits distances\n",
    "---"
   ]
  },
  {
   "cell_type": "code",
   "execution_count": null,
   "metadata": {},
   "outputs": [],
   "source": [
    "k = pd.read_table(kmer_hits,\n",
    "                  index_col=0)\n",
    "k['normalized_hits'] = (k['hits'] / nsize)\n",
    "genes = set(k[k['normalized_hits'] >= 0.1].index)"
   ]
  },
  {
   "cell_type": "code",
   "execution_count": null,
   "metadata": {},
   "outputs": [],
   "source": [
    "d = m[(m['replicon'] == True) &\n",
    "      (m['set'] == 'real') &\n",
    "      (m['og1'] != m['og2']) &\n",
    "      (m['strain'] == 'IAI39') &\n",
    "      (m['og1'].isin(genes.difference(rhpi))) &\n",
    "      (m['og2'].isin(genes.difference(rhpi)))].groupby(['og1', 'og2']).min()['distance'].reset_index()\n",
    "h = m[(m['replicon'] == True) &\n",
    "      (m['set'] == 'real') &\n",
    "      (m['og1'] != m['og2']) &\n",
    "      (m['strain'] == 'IAI39') &\n",
    "      (m['og1'].isin(rhpi)) &\n",
    "      (m['og2'].isin(rhpi))].groupby(['og1', 'og2']).min()['distance'].reset_index()\n",
    "r = m[(m['replicon'] == True) &\n",
    "      (m['set'] == 'random') &\n",
    "      (m['og1'] != m['og2']) &\n",
    "      ((m['strain'] == 'IAI39') |\n",
    "       (m['strain'] == 'IAI01'))].groupby(['og1', 'og2']).min()['distance'].reset_index()"
   ]
  },
  {
   "cell_type": "code",
   "execution_count": null,
   "metadata": {},
   "outputs": [],
   "source": [
    "plt.figure(figsize=(3.5, 3.5))\n",
    "\n",
    "sns.kdeplot(np.log10(h['distance']),\n",
    "            label='HPI',\n",
    "            color=sns.xkcd_rgb['dark sky blue'],\n",
    "            zorder=10)\n",
    "sns.kdeplot(np.log10(d['distance']),\n",
    "            label='Other Genes',\n",
    "            color='r',\n",
    "            zorder=5)\n",
    "sns.kdeplot(np.log10(r['distance']),\n",
    "            label='Random genes',\n",
    "            color='grey',\n",
    "            zorder=0)\n",
    "\n",
    "plt.legend(loc='upper left',\n",
    "           bbox_to_anchor=(0, 1))\n",
    "\n",
    "sns.despine(left=True)\n",
    "plt.yticks([])\n",
    "plt.xticks(range(0, 10, 2),\n",
    "           ['$10^{%d}$' % x for x in range(0, 10, 2)])\n",
    "plt.xlabel('Minimum gene distance (bp)')\n",
    "\n",
    "plt.savefig('genes.png',\n",
    "            dpi=300, bbox_inches='tight',\n",
    "            transparent=True)\n",
    "plt.savefig('genes.svg',\n",
    "            dpi=300, bbox_inches='tight',\n",
    "            transparent=True);"
   ]
  },
  {
   "cell_type": "code",
   "execution_count": null,
   "metadata": {},
   "outputs": [],
   "source": [
    "d = m[(m['replicon'] == True) &\n",
    "      (m['set'] == 'real') &\n",
    "      (m['og1'] != m['og2']) &\n",
    "      (m['strain'] == 'IAI39') &\n",
    "      (m['og1'].isin(genes)) &\n",
    "      (m['og2'].isin(genes)) &\n",
    "      (m['distance'] <= 500)].groupby(['og1', 'og2']).min()['distance'].reset_index()"
   ]
  },
  {
   "cell_type": "code",
   "execution_count": null,
   "metadata": {},
   "outputs": [],
   "source": [
    "g = nx.from_pandas_edgelist(d,\n",
    "                            source='og1',\n",
    "                            target='og2',\n",
    "                            edge_attr='distance')"
   ]
  },
  {
   "cell_type": "code",
   "execution_count": null,
   "metadata": {},
   "outputs": [],
   "source": [
    "graph_pos = nx.layout.spring_layout(g, k=0.3)"
   ]
  },
  {
   "cell_type": "code",
   "execution_count": null,
   "metadata": {},
   "outputs": [],
   "source": [
    "plt.figure(figsize=(9, 9))\n",
    "\n",
    "# Draw nodes\n",
    "nx.draw_networkx_nodes(g, graph_pos,\n",
    "                       # Node size depends on gene hits\n",
    "                       node_size=[kh.get(n.get(x, x), min(kh.values()))*100\n",
    "                                  for x in g.nodes()],\n",
    "                       node_color=sns.xkcd_rgb['light grey'],\n",
    "                       edgecolors='k')\n",
    "# Draw edges\n",
    "nx.draw_networkx_edges(g, graph_pos,\n",
    "                       # Width depends on minimum distance\n",
    "                       width=1,\n",
    "#                        width=[x['distance']/2000 for x in dict(g.edges()).values()],\n",
    "                       color='grey')\n",
    "# Draw labels\n",
    "nx.draw_networkx_labels(g, graph_pos,\n",
    "                        {x:n.get(x, x) for x in g.nodes()})\n",
    "\n",
    "sns.despine(bottom=True, left=True)\n",
    "plt.xticks([])\n",
    "plt.yticks([])\n",
    "\n",
    "plt.savefig('graphs.png',\n",
    "            dpi=300, bbox_inches='tight',\n",
    "            transparent=True)\n",
    "plt.savefig('graphs.svg',\n",
    "            dpi=300, bbox_inches='tight',\n",
    "            transparent=True);"
   ]
  },
  {
   "cell_type": "code",
   "execution_count": null,
   "metadata": {},
   "outputs": [],
   "source": [
    "plt.figure(figsize=(9, 9))\n",
    "\n",
    "# Draw nodes\n",
    "nx.draw_networkx_nodes(g, graph_pos,\n",
    "                       # Node size depends on gene hits\n",
    "                       node_size=[kh.get(n.get(x, x), min(kh.values()))*100\n",
    "                                  for x in g.nodes()],\n",
    "                       node_color=sns.xkcd_rgb['light grey'],\n",
    "                       edgecolors='k')\n",
    "# Draw edges\n",
    "nx.draw_networkx_edges(g, graph_pos,\n",
    "                       # Width depends on minimum distance\n",
    "                       width=1,\n",
    "#                        width=[x['distance']/2000 for x in dict(g.edges()).values()],\n",
    "                       color='grey')\n",
    "# Draw labels\n",
    "nx.draw_networkx_labels(g, graph_pos,\n",
    "                        #{x:n.get(x, x) for x in g.nodes()}\n",
    "                       )\n",
    "\n",
    "sns.despine(bottom=True, left=True)\n",
    "plt.xticks([])\n",
    "plt.yticks([])\n",
    "\n",
    "plt.savefig('graphs1.png',\n",
    "            dpi=300, bbox_inches='tight',\n",
    "            transparent=True)\n",
    "plt.savefig('graphs1.svg',\n",
    "            dpi=300, bbox_inches='tight',\n",
    "            transparent=True);"
   ]
  },
  {
   "cell_type": "markdown",
   "metadata": {},
   "source": [
    "<h5><a href=\"javascript:toggle()\" target=\"_self\">toggle source code</a></h5>"
   ]
  }
 ],
 "metadata": {
  "kernelspec": {
   "display_name": "Python 3",
   "language": "python",
   "name": "python3"
  },
  "language_info": {
   "codemirror_mode": {
    "name": "ipython",
    "version": 3
   },
   "file_extension": ".py",
   "mimetype": "text/x-python",
   "name": "python",
   "nbconvert_exporter": "python",
   "pygments_lexer": "ipython3",
   "version": "3.7.5"
  }
 },
 "nbformat": 4,
 "nbformat_minor": 4
}
