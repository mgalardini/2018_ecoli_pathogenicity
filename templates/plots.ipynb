{
 "cells": [
  {
   "cell_type": "code",
   "execution_count": null,
   "metadata": {},
   "outputs": [],
   "source": [
    "dists = '../out/associations/gene_distances.tsv'\n",
    "kmer_hits = '../out/associations/summary_cont_lmm_kmer.tsv'\n",
    "names = '../out/associations/associated_ogs.final.tsv'"
   ]
  },
  {
   "cell_type": "code",
   "execution_count": null,
   "metadata": {},
   "outputs": [],
   "source": [
    "# plotting imports\n",
    "%matplotlib inline\n",
    "\n",
    "import matplotlib.pyplot as plt\n",
    "import seaborn as sns\n",
    "from adjustText import adjust_text\n",
    "\n",
    "sns.set_style('white')\n",
    "\n",
    "plt.rc('font', size=11)\n",
    "plt.rc('xtick', labelsize=11)\n",
    "plt.rc('ytick', labelsize=11)\n",
    "plt.rc('axes', labelsize=12, titlesize=12)\n",
    "plt.rc('legend', fontsize=11)"
   ]
  },
  {
   "cell_type": "code",
   "execution_count": null,
   "metadata": {},
   "outputs": [],
   "source": [
    "import numpy as np\n",
    "import pandas as pd\n",
    "import networkx as nx"
   ]
  },
  {
   "cell_type": "code",
   "execution_count": null,
   "metadata": {},
   "outputs": [],
   "source": [
    "u = pd.read_table(names)\n",
    "n = u.set_index('OG')['preferred_og_name'].to_dict()\n",
    "nsize = u.set_index('OG')['representative_protein_length']"
   ]
  },
  {
   "cell_type": "code",
   "execution_count": null,
   "metadata": {},
   "outputs": [],
   "source": [
    "m = pd.read_table(dists)"
   ]
  },
  {
   "cell_type": "code",
   "execution_count": null,
   "metadata": {},
   "outputs": [],
   "source": [
    "k = pd.read_table(kmer_hits,\n",
    "                  index_col=0)\n",
    "k['normalized_hits'] = (k['hits'] / nsize)\n",
    "k.index = [n.get(x, x)\n",
    "           for x in k.index]\n",
    "k = k[k['specific_hits'] > 0]\n",
    "kh = k['normalized_hits'].to_dict()"
   ]
  },
  {
   "cell_type": "markdown",
   "metadata": {},
   "source": [
    "Top gene hits\n",
    "---"
   ]
  },
  {
   "cell_type": "code",
   "execution_count": null,
   "metadata": {},
   "outputs": [],
   "source": [
    "k.sort_values('normalized_hits',\n",
    "              ascending=False)"
   ]
  },
  {
   "cell_type": "code",
   "execution_count": null,
   "metadata": {},
   "outputs": [],
   "source": [
    "plt.figure(figsize=(8, 6.5))\n",
    "\n",
    "plt.scatter(k['avg_maf'],\n",
    "            k['maxp'],\n",
    "            c=k['normalized_hits'],\n",
    "            s=500,\n",
    "            edgecolors='grey',\n",
    "            cmap=plt.get_cmap('Blues'),\n",
    "            vmin=0,\n",
    "            vmax=k['normalized_hits'].max())\n",
    "\n",
    "cbar = plt.colorbar()\n",
    "cbar.ax.set_ylabel('hits\\n(normalized to gene length)')\n",
    "\n",
    "texts = [plt.text(x, y, t,\n",
    "                  ha='center', va='center')\n",
    "         for (x, y), t in zip(k[['avg_maf', 'maxp']].values,\n",
    "                              k.index)]\n",
    "adjust_text(texts,\n",
    "            arrowprops=dict(arrowstyle='->', color='k'),\n",
    "            force_points=15)\n",
    "\n",
    "plt.yticks(range(12, 18, 2),\n",
    "           ['1E-%d' % x for x in range(12, 18, 2)])\n",
    "plt.xlabel('average MAF')\n",
    "plt.ylabel('maximum association pvalue');"
   ]
  },
  {
   "cell_type": "markdown",
   "metadata": {},
   "source": [
    "Gene hits distances\n",
    "---"
   ]
  },
  {
   "cell_type": "code",
   "execution_count": null,
   "metadata": {},
   "outputs": [],
   "source": [
    "k = pd.read_table(kmer_hits,\n",
    "                  index_col=0)\n",
    "k['normalized_hits'] = (k['hits'] / nsize)\n",
    "genes = set(k[k['normalized_hits'] >= 0.1].index)"
   ]
  },
  {
   "cell_type": "code",
   "execution_count": null,
   "metadata": {},
   "outputs": [],
   "source": [
    "d = m[(m['replicon'] == True) &\n",
    "      (m['set'] == 'real') &\n",
    "      (m['og1'] != m['og2']) &\n",
    "      (m['strain'] == 'IAI39') &\n",
    "      (m['og1'].isin(genes)) &\n",
    "      (m['og2'].isin(genes))].groupby(['og1', 'og2']).min()['distance'].reset_index()\n",
    "r = m[(m['replicon'] == True) &\n",
    "      (m['set'] == 'random') &\n",
    "      (m['og1'] != m['og2']) &\n",
    "      ((m['strain'] == 'IAI39') |\n",
    "       (m['strain'] == 'IAI01'))].groupby(['og1', 'og2']).min()['distance'].reset_index()"
   ]
  },
  {
   "cell_type": "code",
   "execution_count": null,
   "metadata": {},
   "outputs": [],
   "source": [
    "plt.figure(figsize=(7, 3))\n",
    "\n",
    "sns.kdeplot(np.log10(d['distance']),\n",
    "            label='associated OGs',\n",
    "            color='r')\n",
    "sns.kdeplot(np.log10(r['distance']),\n",
    "            label='random genes',\n",
    "            color='grey')\n",
    "\n",
    "sns.despine(left=True)\n",
    "plt.yticks([])\n",
    "plt.xticks(range(0, 10, 2),\n",
    "           ['$10^{%d}$' % x for x in range(0, 10, 2)])\n",
    "plt.xlabel('minimum observed gene distance');"
   ]
  },
  {
   "cell_type": "code",
   "execution_count": null,
   "metadata": {},
   "outputs": [],
   "source": [
    "d = m[(m['replicon'] == True) &\n",
    "      (m['set'] == 'real') &\n",
    "      (m['og1'] != m['og2']) &\n",
    "      (m['strain'] == 'IAI39') &\n",
    "      (m['og1'].isin(genes)) &\n",
    "      (m['og2'].isin(genes)) &\n",
    "      (m['distance'] <= 10000)].groupby(['og1', 'og2']).min()['distance'].reset_index()"
   ]
  },
  {
   "cell_type": "code",
   "execution_count": null,
   "metadata": {},
   "outputs": [],
   "source": [
    "g = nx.from_pandas_edgelist(d,\n",
    "                            source='og1',\n",
    "                            target='og2',\n",
    "                            edge_attr='distance')"
   ]
  },
  {
   "cell_type": "code",
   "execution_count": null,
   "metadata": {},
   "outputs": [],
   "source": [
    "graph_pos = nx.layout.spring_layout(g, k=0.45)"
   ]
  },
  {
   "cell_type": "code",
   "execution_count": null,
   "metadata": {},
   "outputs": [],
   "source": [
    "plt.figure(figsize=(9, 9))\n",
    "\n",
    "# Draw nodes\n",
    "nx.draw_networkx_nodes(g, graph_pos,\n",
    "                       # Node size depends on gene hits\n",
    "                       node_size=[kh.get(n.get(x, x), min(kh.values()))*1000\n",
    "                                  for x in g.nodes()],\n",
    "                       node_color=sns.xkcd_rgb['light grey'],\n",
    "                       edgecolors='k')\n",
    "# Draw edges\n",
    "nx.draw_networkx_edges(g, graph_pos,\n",
    "                       # Width depends on minimum distance\n",
    "                       width=1,\n",
    "#                        width=[x['distance']/2000 for x in dict(g.edges()).values()],\n",
    "                       color='grey')\n",
    "# Draw labels\n",
    "nx.draw_networkx_labels(g, graph_pos,\n",
    "                        {x:n.get(x, x) for x in g.nodes()})\n",
    "\n",
    "sns.despine(bottom=True, left=True)\n",
    "plt.xticks([])\n",
    "plt.yticks([])\n",
    "pass"
   ]
  },
  {
   "cell_type": "markdown",
   "metadata": {},
   "source": [
    "<h5><a href=\"javascript:toggle()\" target=\"_self\">toggle source code</a></h5>"
   ]
  }
 ],
 "metadata": {
  "kernelspec": {
   "display_name": "Python 3",
   "language": "python",
   "name": "python3"
  },
  "language_info": {
   "codemirror_mode": {
    "name": "ipython",
    "version": 3
   },
   "file_extension": ".py",
   "mimetype": "text/x-python",
   "name": "python",
   "nbconvert_exporter": "python",
   "pygments_lexer": "ipython3",
   "version": "3.6.3"
  }
 },
 "nbformat": 4,
 "nbformat_minor": 2
}
