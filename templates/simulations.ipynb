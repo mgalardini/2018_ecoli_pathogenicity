{
 "cells": [
  {
   "cell_type": "code",
   "execution_count": null,
   "metadata": {},
   "outputs": [],
   "source": [
    "simulations1 = '../out/associations/power_analysis.tsv'\n",
    "simulations2 = '../out/refseq/power_analysis.tsv'"
   ]
  },
  {
   "cell_type": "code",
   "execution_count": null,
   "metadata": {},
   "outputs": [],
   "source": [
    "# plotting imports\n",
    "%matplotlib inline\n",
    "\n",
    "import matplotlib.pyplot as plt\n",
    "import seaborn as sns\n",
    "\n",
    "sns.set_style('white')\n",
    "\n",
    "plt.rc('font', size=11)\n",
    "plt.rc('xtick', labelsize=11)\n",
    "plt.rc('ytick', labelsize=11)\n",
    "plt.rc('axes', labelsize=12, titlesize=12)\n",
    "plt.rc('legend', fontsize=11)"
   ]
  },
  {
   "cell_type": "code",
   "execution_count": null,
   "metadata": {},
   "outputs": [],
   "source": [
    "import numpy as np\n",
    "import pandas as pd"
   ]
  },
  {
   "cell_type": "code",
   "execution_count": null,
   "metadata": {},
   "outputs": [],
   "source": [
    "r = pd.read_table(simulations1)"
   ]
  },
  {
   "cell_type": "code",
   "execution_count": null,
   "metadata": {},
   "outputs": [],
   "source": [
    "t = (r.groupby(['size', 'OR', 'og']).sum()['pass'] / r.groupby(['size', 'OR', 'og']).count()['pass']).reset_index()"
   ]
  },
  {
   "cell_type": "code",
   "execution_count": null,
   "metadata": {},
   "outputs": [],
   "source": [
    "plt.figure(figsize=(5, 5))\n",
    "\n",
    "x = t[t['og'] == 'pks2']\n",
    "with sns.color_palette('Blues', x['OR'].unique().shape[0]):\n",
    "    for OR in x['OR'].unique():\n",
    "        plt.plot(x[x['OR'] == OR]['size'],\n",
    "                 x[x['OR'] == OR]['pass'],\n",
    "                 '.-',\n",
    "                 label='%.2f' % OR)\n",
    "\n",
    "plt.legend(loc='center left',\n",
    "           bbox_to_anchor=(1, 0.5),\n",
    "           title='odds ratio',\n",
    "           frameon=True)\n",
    "plt.xlabel('sample size')\n",
    "plt.ylabel('statistical power');"
   ]
  },
  {
   "cell_type": "code",
   "execution_count": null,
   "metadata": {},
   "outputs": [],
   "source": [
    "plt.figure(figsize=(5, 5))\n",
    "\n",
    "x = t[t['og'] == 'group_2650']\n",
    "with sns.color_palette('Blues', x['OR'].unique().shape[0]):\n",
    "    for OR in x['OR'].unique():\n",
    "        plt.plot(x[x['OR'] == OR]['size'],\n",
    "                 x[x['OR'] == OR]['pass'],\n",
    "                 '.-',\n",
    "                 label='%.2f' % OR)\n",
    "\n",
    "plt.legend(loc='center left',\n",
    "           bbox_to_anchor=(1, 0.5),\n",
    "           title='odds ratio',\n",
    "           frameon=True)\n",
    "plt.xlabel('sample size')\n",
    "plt.ylabel('statistical power')\n",
    "\n",
    "plt.ylim(-0.05, 1.05);"
   ]
  },
  {
   "cell_type": "code",
   "execution_count": null,
   "metadata": {},
   "outputs": [],
   "source": [
    "tsize = t['size'].max()"
   ]
  },
  {
   "cell_type": "code",
   "execution_count": null,
   "metadata": {},
   "outputs": [],
   "source": [
    "r = pd.read_table(simulations2)"
   ]
  },
  {
   "cell_type": "code",
   "execution_count": null,
   "metadata": {},
   "outputs": [],
   "source": [
    "t = (r.groupby(['size', 'OR', 'og']).sum()['pass'] / r.groupby(['size', 'OR', 'og']).count()['pass']).reset_index()"
   ]
  },
  {
   "cell_type": "code",
   "execution_count": null,
   "metadata": {},
   "outputs": [],
   "source": [
    "plt.figure(figsize=(5, 5))\n",
    "\n",
    "x = t[t['og'] == 'group_7955']\n",
    "with sns.color_palette('Blues', x['OR'].unique().shape[0]):\n",
    "    for OR in x['OR'].unique():\n",
    "        plt.plot(x[x['OR'] == OR]['size'],\n",
    "                 x[x['OR'] == OR]['pass'],\n",
    "                 '.-',\n",
    "                 label='%.2f' % OR)\n",
    "\n",
    "plt.legend(loc='center left',\n",
    "           bbox_to_anchor=(1, 0.5),\n",
    "           title='odds ratio',\n",
    "           frameon=True)\n",
    "plt.axvline(tsize,\n",
    "            ls='dashed',\n",
    "            color='r',\n",
    "            zorder=0)\n",
    "plt.xlabel('sample size')\n",
    "plt.ylabel('statistical power');"
   ]
  },
  {
   "cell_type": "code",
   "execution_count": null,
   "metadata": {},
   "outputs": [],
   "source": [
    "plt.figure(figsize=(5, 5))\n",
    "\n",
    "x = t[t['og'] == 'fabG']\n",
    "with sns.color_palette('Blues', x['OR'].unique().shape[0]):\n",
    "    for OR in x['OR'].unique():\n",
    "        plt.plot(x[x['OR'] == OR]['size'],\n",
    "                 x[x['OR'] == OR]['pass'],\n",
    "                 '.-',\n",
    "                 label='%.2f' % OR)\n",
    "\n",
    "plt.legend(loc='center left',\n",
    "           bbox_to_anchor=(1, 0.5),\n",
    "           title='odds ratio',\n",
    "           frameon=True)\n",
    "plt.axvline(tsize,\n",
    "            ls='dashed',\n",
    "            color='r',\n",
    "            zorder=0)\n",
    "plt.xlabel('sample size')\n",
    "plt.ylabel('statistical power');"
   ]
  }
 ],
 "metadata": {
  "kernelspec": {
   "display_name": "Python 3",
   "language": "python",
   "name": "python3"
  },
  "language_info": {
   "codemirror_mode": {
    "name": "ipython",
    "version": 3
   },
   "file_extension": ".py",
   "mimetype": "text/x-python",
   "name": "python",
   "nbconvert_exporter": "python",
   "pygments_lexer": "ipython3",
   "version": "3.6.3"
  }
 },
 "nbformat": 4,
 "nbformat_minor": 2
}
