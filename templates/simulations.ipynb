{
 "cells": [
  {
   "cell_type": "code",
   "execution_count": null,
   "metadata": {},
   "outputs": [],
   "source": [
    "simulations1 = '../out/associations/power_analysis.tsv'\n",
    "simulations2 = '../out/refseq/power_analysis.tsv'"
   ]
  },
  {
   "cell_type": "code",
   "execution_count": null,
   "metadata": {},
   "outputs": [],
   "source": [
    "# plotting imports\n",
    "%matplotlib inline\n",
    "\n",
    "import matplotlib.pyplot as plt\n",
    "import seaborn as sns\n",
    "\n",
    "sns.set_style('white')\n",
    "\n",
    "plt.rc('font', size=11)\n",
    "plt.rc('xtick', labelsize=11)\n",
    "plt.rc('ytick', labelsize=11)\n",
    "plt.rc('axes', labelsize=12, titlesize=12)\n",
    "plt.rc('legend', fontsize=11)"
   ]
  },
  {
   "cell_type": "code",
   "execution_count": null,
   "metadata": {},
   "outputs": [],
   "source": [
    "import numpy as np\n",
    "import pandas as pd"
   ]
  },
  {
   "cell_type": "code",
   "execution_count": null,
   "metadata": {},
   "outputs": [],
   "source": [
    "r = pd.read_table(simulations1)"
   ]
  },
  {
   "cell_type": "code",
   "execution_count": null,
   "metadata": {},
   "outputs": [],
   "source": [
    "t = (r.groupby(['size', 'OR', 'og', 'rounded_maf']).sum()['pass'] / r.groupby(['size', 'OR', 'og', 'rounded_maf']).count()['pass']).reset_index()"
   ]
  },
  {
   "cell_type": "code",
   "execution_count": null,
   "metadata": {},
   "outputs": [],
   "source": [
    "t['OR'] = [round(x, 1) for x in t['OR'].values]"
   ]
  },
  {
   "cell_type": "code",
   "execution_count": null,
   "metadata": {},
   "outputs": [],
   "source": [
    "sns.relplot(data=t.rename(columns={'size': 'Sample size',\n",
    "                                   'pass': 'Statistical power',\n",
    "                                   'OR': 'Odds ratio'}),\n",
    "            x='Sample size', y='Statistical power',\n",
    "            hue='Odds ratio', kind='line',\n",
    "            palette=sns.color_palette('Blues', len(t['OR'].unique())),\n",
    "            height=4)\n",
    "plt.legend(frameon=True, bbox_to_anchor=(1, 0.5), loc='center left')\n",
    "sns.despine(top=False, right=False);"
   ]
  },
  {
   "cell_type": "code",
   "execution_count": null,
   "metadata": {},
   "outputs": [],
   "source": [
    "sns.relplot(data=t.rename(columns={'size': 'Sample size',\n",
    "                                   'pass': 'Statistical power',\n",
    "                                   'OR': 'Odds ratio',\n",
    "                                   'rounded_maf': 'AF'}),\n",
    "            x='Sample size', y='Statistical power',\n",
    "            hue='Odds ratio', col='AF',\n",
    "            kind='line',\n",
    "            col_wrap=3,\n",
    "            height=3,\n",
    "            palette=sns.color_palette('Blues', len(t['OR'].unique())))\n",
    "sns.despine(top=False, right=False);"
   ]
  },
  {
   "cell_type": "code",
   "execution_count": null,
   "metadata": {},
   "outputs": [],
   "source": [
    "tsize = t['size'].max()"
   ]
  },
  {
   "cell_type": "code",
   "execution_count": null,
   "metadata": {},
   "outputs": [],
   "source": [
    "r = pd.read_table(simulations2)"
   ]
  },
  {
   "cell_type": "code",
   "execution_count": null,
   "metadata": {},
   "outputs": [],
   "source": [
    "t = (r.groupby(['size', 'OR', 'og', 'rounded_maf']).sum()['pass'] / r.groupby(['size', 'OR', 'og', 'rounded_maf']).count()['pass']).reset_index()"
   ]
  },
  {
   "cell_type": "code",
   "execution_count": null,
   "metadata": {},
   "outputs": [],
   "source": [
    "t['OR'] = [round(x, 1) for x in t['OR'].values]"
   ]
  },
  {
   "cell_type": "code",
   "execution_count": null,
   "metadata": {},
   "outputs": [],
   "source": [
    "sns.relplot(data=t.rename(columns={'size': 'Sample size',\n",
    "                                   'pass': 'Statistical power',\n",
    "                                   'OR': 'Odds ratio'}),\n",
    "            x='Sample size', y='Statistical power',\n",
    "            hue='Odds ratio', kind='line',\n",
    "            palette=sns.color_palette('Blues', len(t['OR'].unique())),\n",
    "            height=4)\n",
    "plt.legend(frameon=True, bbox_to_anchor=(1, 0.5), loc='center left')\n",
    "plt.axvline(tsize,\n",
    "            ls='dashed',\n",
    "            color='r',\n",
    "            zorder=0)\n",
    "sns.despine(top=False, right=False)\n",
    "plt.savefig('simulation.png',\n",
    "            dpi=300, bbox_inches='tight',\n",
    "            transparent=True)\n",
    "plt.savefig('simulation.svg',\n",
    "            dpi=300, bbox_inches='tight',\n",
    "            transparent=True);"
   ]
  },
  {
   "cell_type": "code",
   "execution_count": null,
   "metadata": {},
   "outputs": [],
   "source": [
    "rp = sns.relplot(data=t.rename(columns={'size': 'Sample size',\n",
    "                                        'pass': 'Statistical power',\n",
    "                                        'OR': 'Odds ratio',\n",
    "                                        'rounded_maf': 'AF'}),\n",
    "                 x='Sample size', y='Statistical power',\n",
    "                 hue='Odds ratio', col='AF',\n",
    "                 kind='line',\n",
    "                 col_wrap=3,\n",
    "                 height=3,\n",
    "                 palette=sns.color_palette('Blues', len(t['OR'].unique())))\n",
    "for ax in rp.axes.flatten():\n",
    "    ax.axvline(tsize,\n",
    "               ls='dashed',\n",
    "               color='r',\n",
    "               zorder=0)\n",
    "sns.despine(top=False, right=False)\n",
    "plt.savefig('simulation_af.png',\n",
    "            dpi=300, bbox_inches='tight',\n",
    "            transparent=True)\n",
    "plt.savefig('simulation_af.svg',\n",
    "            dpi=300, bbox_inches='tight',\n",
    "            transparent=True);"
   ]
  }
 ],
 "metadata": {
  "kernelspec": {
   "display_name": "Python 3",
   "language": "python",
   "name": "python3"
  },
  "language_info": {
   "codemirror_mode": {
    "name": "ipython",
    "version": 3
   },
   "file_extension": ".py",
   "mimetype": "text/x-python",
   "name": "python",
   "nbconvert_exporter": "python",
   "pygments_lexer": "ipython3",
   "version": "3.7.5"
  }
 },
 "nbformat": 4,
 "nbformat_minor": 4
}
