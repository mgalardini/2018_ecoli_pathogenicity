{
 "cells": [
  {
   "cell_type": "code",
   "execution_count": null,
   "metadata": {},
   "outputs": [],
   "source": [
    "odds_ratio = '../out/associations/odds_ratio.tsv'\n",
    "virulence = '../out/virulence_genes.tsv'\n",
    "filtered = '../out/associations/filtered_cont_lmm_rtab.tsv'\n",
    "tnames = '../out/associations/associated_ogs.final.tsv'\n",
    "phenotypes = '../data/phenotypes/phenotypes.tsv'\n",
    "tree = '../out/gubbins/tree.nwk'\n",
    "rtab = '../out/roary/gene_presence_absence.Rtab'\n",
    "spangenome = '../out/roary/sampled_pangenome.faa'\n",
    "mappings = '../out/associations/kmer_mappings/'\n",
    "fold_changes = '../out/rna/fold_changes.tsv'"
   ]
  },
  {
   "cell_type": "code",
   "execution_count": null,
   "metadata": {},
   "outputs": [],
   "source": [
    "# plotting imports\n",
    "%matplotlib inline\n",
    "\n",
    "import matplotlib.pyplot as plt\n",
    "import seaborn as sns\n",
    "from adjustText import adjust_text\n",
    "\n",
    "sns.set_style('white')\n",
    "\n",
    "plt.rc('font', size=11)\n",
    "plt.rc('xtick', labelsize=11)\n",
    "plt.rc('ytick', labelsize=11)\n",
    "plt.rc('axes', labelsize=12, titlesize=12)\n",
    "plt.rc('legend', fontsize=11)"
   ]
  },
  {
   "cell_type": "code",
   "execution_count": null,
   "metadata": {},
   "outputs": [],
   "source": [
    "import os\n",
    "import numpy as np\n",
    "import pandas as pd\n",
    "from Bio import Phylo\n",
    "from Bio import SeqIO"
   ]
  },
  {
   "cell_type": "code",
   "execution_count": null,
   "metadata": {},
   "outputs": [],
   "source": [
    "def plot_tree(tree,\n",
    "              phenotypes,\n",
    "              mdist,\n",
    "              rs,\n",
    "              names=None, vnames=None,\n",
    "              mdist_offset=0,\n",
    "              color_strains=None,\n",
    "              order=None, label_matrix=False):\n",
    "    if names is None:\n",
    "        names = {}\n",
    "    if vnames is None:\n",
    "        vnames = {}\n",
    "    p_vector = phenotypes.loc[[x.name\n",
    "                              for x in tree.get_terminals()]]\n",
    "    \n",
    "    grid_length = 13 + 1 + 1 + sum([x[0].shape[0]\n",
    "                                    for x in rs])\n",
    "\n",
    "    grid_height = len(tree.get_terminals())\n",
    "    \n",
    "    fig = plt.figure(figsize=(grid_length/2.5, 35))\n",
    "\n",
    "    curr_w = 0\n",
    "    for r, label, cmap in rs:\n",
    "        cmap.set_bad('grey', 0.2)\n",
    "        cmap.set_under('red', 1)\n",
    "        ax=plt.subplot2grid((grid_height, grid_length),\n",
    "                            (0, 15 + curr_w),\n",
    "                            colspan=r.shape[0],\n",
    "                            rowspan=len(tree.get_terminals()))\n",
    "        if order is None:\n",
    "            corder = list(r.T.sum().sort_values(ascending=False).index)\n",
    "        else:\n",
    "            corder = order\n",
    "        a=ax.imshow(r.loc[corder,\n",
    "                         [x.name\n",
    "                          for x in tree.get_terminals()]].T,\n",
    "                    cmap=cmap,\n",
    "                    vmin=r.min().min(), vmax=r.max().max(),\n",
    "                    aspect='auto',\n",
    "                    interpolation='none',\n",
    "                    )\n",
    "        ax.set_yticks([])\n",
    "        ax.set_xticks([])\n",
    "        for i  in range(r.shape[0]):\n",
    "            ax.axvline(i+0.5,\n",
    "                       color='grey',\n",
    "                       alpha=0.77)\n",
    "        ax.set_xticks([x for x in range(r.shape[0])])\n",
    "        ax.set_xticklabels([names.get(x, vnames.get(x, x))\n",
    "                            for x in \n",
    "                            corder],\n",
    "                           rotation=90,\n",
    "                           size=12)\n",
    "        ax.set_xlabel(label,\n",
    "                      size=12)\n",
    "        curr_w += r.shape[0]\n",
    "        \n",
    "    cmap = plt.cm.Reds\n",
    "    cmap.set_bad(sns.xkcd_rgb['light grey'], 0.2)\n",
    "\n",
    "    ax1=plt.subplot2grid((grid_height, grid_length),\n",
    "                         (0, 13),\n",
    "                         colspan=1,\n",
    "                         rowspan=len(tree.get_terminals()))\n",
    "    a=ax1.imshow([[x] for x in p_vector],\n",
    "                 cmap=cmap,\n",
    "                 vmin=p_vector.min(), vmax=p_vector.max(),\n",
    "                 aspect='auto',\n",
    "                 interpolation='none',\n",
    "                )\n",
    "    if label_matrix:\n",
    "        ax1.set_yticks([x for x in range(p_vector.shape[0])])\n",
    "        ax1.set_yticklabels([x.name if x.name in color_strains\n",
    "                             else ''\n",
    "                             for x in tree.get_terminals()],\n",
    "                            rotation=0,\n",
    "                            size=10)\n",
    "    else:\n",
    "        ax1.set_yticks([])\n",
    "    ax1.set_xticks([0])\n",
    "    ax1.set_xticklabels(['Phenotype'],\n",
    "                        rotation=90,\n",
    "                        size=12)\n",
    "\n",
    "    ax=plt.subplot2grid((grid_height, grid_length),\n",
    "                        (0, 0),\n",
    "                        colspan=10,\n",
    "                        rowspan=len(tree.get_terminals()))\n",
    "    \n",
    "    fig.subplots_adjust(wspace=0, hspace=0)\n",
    "    \n",
    "    labels = {}\n",
    "    for x, i in zip(tree.get_terminals(),\n",
    "                    range(len(tree.get_terminals()))):\n",
    "        labels[x.name] = i\n",
    "    \n",
    "    if color_strains is None:\n",
    "        color_strains = [x.name for x in tree.get_terminals()]\n",
    "    \n",
    "    def _label(x, strains, label_matrix):\n",
    "        if x.name in strains and not label_matrix:\n",
    "            return x.name\n",
    "        \n",
    "    plt.rc('font', size=10)\n",
    "    suptitle = ''\n",
    "    Phylo.draw(tree, axes=ax, \n",
    "               show_confidence=False,\n",
    "               label_func=lambda x: _label(x, color_strains, label_matrix),\n",
    "               xticks=([],),\n",
    "               yticks=([],),\n",
    "               ylabel=('',), suptitle=(suptitle,),\n",
    "               xlim=(-0.01, mdist+0.01+mdist_offset),\n",
    "               axis=('off',),\n",
    "               do_show=False,)"
   ]
  },
  {
   "cell_type": "code",
   "execution_count": null,
   "metadata": {},
   "outputs": [],
   "source": [
    "tree = Phylo.read(tree,\n",
    "                  'newick')\n",
    "tree.ladderize()\n",
    "mdist = max([tree.distance(tree.root, x) for x in tree.get_terminals()])"
   ]
  },
  {
   "cell_type": "code",
   "execution_count": null,
   "metadata": {},
   "outputs": [],
   "source": [
    "k = pd.read_table(phenotypes,\n",
    "                  index_col=0)"
   ]
  },
  {
   "cell_type": "code",
   "execution_count": null,
   "metadata": {},
   "outputs": [],
   "source": [
    "m = pd.read_table(odds_ratio,\n",
    "                  index_col=0)\n",
    "m['lrt-pvalue'] = [float(x)\n",
    "                   if x != 'NAN'\n",
    "                   else np.nan\n",
    "                   for x in m['lrt-pvalue']]\n",
    "m = m.dropna()"
   ]
  },
  {
   "cell_type": "code",
   "execution_count": null,
   "metadata": {},
   "outputs": [],
   "source": [
    "f = pd.read_table(filtered,\n",
    "                  index_col=0)"
   ]
  },
  {
   "cell_type": "code",
   "execution_count": null,
   "metadata": {},
   "outputs": [],
   "source": [
    "v = pd.read_table(virulence)"
   ]
  },
  {
   "cell_type": "code",
   "execution_count": null,
   "metadata": {},
   "outputs": [],
   "source": [
    "names = pd.read_table(tnames, index_col=1)['preferred_og_name'].to_dict()"
   ]
  },
  {
   "cell_type": "code",
   "execution_count": null,
   "metadata": {},
   "outputs": [],
   "source": [
    "vnames = v.set_index('og')['gene'].to_dict()"
   ]
  },
  {
   "cell_type": "code",
   "execution_count": null,
   "metadata": {},
   "outputs": [],
   "source": [
    "oglen = pd.Series({x.id: len(x)\n",
    "                   for x in SeqIO.parse(spangenome, 'fasta')})"
   ]
  },
  {
   "cell_type": "code",
   "execution_count": null,
   "metadata": {},
   "outputs": [],
   "source": [
    "fold = pd.read_table(fold_changes,\n",
    "                     index_col=0)"
   ]
  },
  {
   "cell_type": "code",
   "execution_count": null,
   "metadata": {},
   "outputs": [],
   "source": [
    "plt.figure(figsize=(4, 4))\n",
    "\n",
    "plt.plot(-np.log10(m['lrt-pvalue']),\n",
    "         m['odds-ratio'],\n",
    "         'ko',\n",
    "         alpha=0.1,\n",
    "         label='_')\n",
    "\n",
    "plt.plot(-np.log10(m.loc[m.index.intersection(f.index)]['lrt-pvalue']),\n",
    "         m.loc[m.index.intersection(f.index)]['odds-ratio'],\n",
    "         'ro',\n",
    "         label='associated OGs')\n",
    "plt.plot(-np.log10(m.loc[m.index.intersection(v['og'])]['lrt-pvalue']),\n",
    "         m.loc[m.index.intersection(v['og'])]['odds-ratio'],\n",
    "         'bo',\n",
    "         label='other virulence OGs')\n",
    "\n",
    "plt.legend(loc='center left',\n",
    "           bbox_to_anchor=(1, 0.5),\n",
    "           frameon=True)\n",
    "\n",
    "plt.xlabel('OG association $-log_{10}(pvalue)$')\n",
    "plt.ylabel('OG odds ratio');"
   ]
  },
  {
   "cell_type": "code",
   "execution_count": null,
   "metadata": {},
   "outputs": [],
   "source": [
    "plt.figure(figsize=(7, 7))\n",
    "\n",
    "plt.plot(-np.log10(m['lrt-pvalue']),\n",
    "         m['odds-ratio'],\n",
    "         'ko',\n",
    "         alpha=0.03,\n",
    "         label='_')\n",
    "\n",
    "plt.plot(-np.log10(m.loc[m.index.intersection(f.index)]['lrt-pvalue']),\n",
    "         m.loc[m.index.intersection(f.index)]['odds-ratio'],\n",
    "         'ro',\n",
    "         label='associated OGs')\n",
    "text1 = [plt.text(-np.log10(x), y, names.get(t, t),\n",
    "                  ha='center', va='center')\n",
    "         for t, (y, x) in m.loc[m.index.intersection(f.index)].iterrows()]\n",
    "\n",
    "plt.plot(-np.log10(m.loc[m.index.intersection(v['og'])]['lrt-pvalue']),\n",
    "         m.loc[m.index.intersection(v['og'])]['odds-ratio'],\n",
    "         'bo',\n",
    "         label='other virulence OGs')\n",
    "text2 = [plt.text(-np.log10(x), y, vnames.get(t, t),\n",
    "                  ha='center', va='center')\n",
    "         for t, (y, x) in m.loc[m.index.intersection(v['og'])].iterrows()]\n",
    "\n",
    "adjust_text(text1 + text2,\n",
    "            arrowprops=dict(arrowstyle='->', color='k'),\n",
    "            force_points=15)\n",
    "\n",
    "plt.legend(loc='center left',\n",
    "           bbox_to_anchor=(1, 0.5),\n",
    "           frameon=True)\n",
    "\n",
    "plt.xlabel('OG association $-log_{10}(pvalue)$')\n",
    "plt.ylabel('OG odds ratio');"
   ]
  },
  {
   "cell_type": "code",
   "execution_count": null,
   "metadata": {},
   "outputs": [],
   "source": [
    "r = pd.read_table(rtab, index_col=0)\n",
    "r1 = r.loc[f.index].copy(deep=True)\n",
    "r2 = r.loc[v['og']].drop_duplicates().copy(deep=True)\n",
    "r2 = r2.sort_index()"
   ]
  },
  {
   "cell_type": "code",
   "execution_count": null,
   "metadata": {},
   "outputs": [],
   "source": [
    "plot_tree(tree,\n",
    "          k['killed'],\n",
    "          mdist,\n",
    "          [(r1, 'associated OGs', plt.cm.Reds),\n",
    "           (r2, 'other pathogenic OGs', plt.cm.Blues)],\n",
    "          names, vnames,\n",
    "          mdist_offset=0)"
   ]
  },
  {
   "cell_type": "code",
   "execution_count": null,
   "metadata": {},
   "outputs": [],
   "source": [
    "p = []\n",
    "for f in os.listdir(mappings):\n",
    "    o = pd.read_table(os.path.join(mappings, f),\n",
    "                      header=None)\n",
    "    o.columns = ['strain', 'kmer', 'dna',\n",
    "                 'start', 'end', 'strand',\n",
    "                 'up', 'in', 'down']\n",
    "    p.append(o)\n",
    "p = pd.concat(p)\n",
    "p['size'] = [len(x) for x in p['kmer'].values]"
   ]
  },
  {
   "cell_type": "code",
   "execution_count": null,
   "metadata": {},
   "outputs": [],
   "source": [
    "t = p[p['size'] >= 30].groupby(['strain', 'in']).count()['kmer'].unstack().copy(deep=True)\n",
    "t = t.reindex([x.name for x in tree.get_terminals()])\n",
    "t[np.isnan(t)] = 0\n",
    "t = t.T"
   ]
  },
  {
   "cell_type": "code",
   "execution_count": null,
   "metadata": {},
   "outputs": [],
   "source": [
    "plot_tree(tree,\n",
    "          k['killed'],\n",
    "          mdist,\n",
    "          [(t, 'associated kmers', plt.cm.Reds)],\n",
    "          names, vnames,\n",
    "          mdist_offset=0)"
   ]
  },
  {
   "cell_type": "code",
   "execution_count": null,
   "metadata": {},
   "outputs": [],
   "source": [
    "t1 = t.apply(lambda x: x / oglen.loc[t.index])"
   ]
  },
  {
   "cell_type": "code",
   "execution_count": null,
   "metadata": {},
   "outputs": [],
   "source": [
    "plot_tree(tree,\n",
    "          k['killed'],\n",
    "          mdist,\n",
    "          [(t1, 'associated kmers', plt.cm.Reds)],\n",
    "          names, vnames,\n",
    "          mdist_offset=0)"
   ]
  },
  {
   "cell_type": "code",
   "execution_count": null,
   "metadata": {},
   "outputs": [],
   "source": [
    "t2 = t.copy(deep=True)\n",
    "t2[t2 <= 10] = 0\n",
    "t2[t2 > 10] = 1\n",
    "t2 = t2.loc[t2.T.max()[t2.T.max() > 0].index]"
   ]
  },
  {
   "cell_type": "code",
   "execution_count": null,
   "metadata": {},
   "outputs": [],
   "source": [
    "plot_tree(tree,\n",
    "          k['killed'],\n",
    "          mdist,\n",
    "          [(t2, 'associated kmers', plt.cm.Reds)],\n",
    "          names, vnames,\n",
    "          mdist_offset=0)"
   ]
  },
  {
   "cell_type": "code",
   "execution_count": null,
   "metadata": {},
   "outputs": [],
   "source": [
    "idx = fold.index.intersection(t1.index).intersection(r1.index)"
   ]
  },
  {
   "cell_type": "code",
   "execution_count": null,
   "metadata": {},
   "outputs": [],
   "source": [
    "plot_tree(tree,\n",
    "          k['killed'],\n",
    "          mdist,\n",
    "          [(t1.loc[idx], 'associated kmers', plt.cm.Blues),\n",
    "           (r1.loc[idx], 'gene presence/absence', plt.cm.Reds),\n",
    "           (fold.loc[idx], 'transcription\\n(fold change)', sns.cm.vlag),],\n",
    "          names, vnames,\n",
    "          mdist_offset=0,\n",
    "          color_strains=fold.columns,\n",
    "          order=t1.loc[idx].T.sum().sort_values(ascending=False).index,\n",
    "          label_matrix=True)"
   ]
  }
 ],
 "metadata": {
  "kernelspec": {
   "display_name": "Python 3",
   "language": "python",
   "name": "python3"
  },
  "language_info": {
   "codemirror_mode": {
    "name": "ipython",
    "version": 3
   },
   "file_extension": ".py",
   "mimetype": "text/x-python",
   "name": "python",
   "nbconvert_exporter": "python",
   "pygments_lexer": "ipython3",
   "version": "3.6.3"
  }
 },
 "nbformat": 4,
 "nbformat_minor": 2
}
