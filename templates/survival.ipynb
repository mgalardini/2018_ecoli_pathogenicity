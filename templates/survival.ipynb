{
 "cells": [
  {
   "cell_type": "code",
   "execution_count": null,
   "metadata": {},
   "outputs": [],
   "source": [
    "nils46 = '../data/liste_souris_NILS46.csv'\n",
    "nils9 = '../data/liste_souris_NILS9.csv'"
   ]
  },
  {
   "cell_type": "code",
   "execution_count": null,
   "metadata": {},
   "outputs": [],
   "source": [
    "# plotting imports\n",
    "%matplotlib inline\n",
    "\n",
    "import matplotlib.pyplot as plt\n",
    "import seaborn as sns\n",
    "\n",
    "sns.set_style('white')\n",
    "\n",
    "plt.rc('font', size=11)\n",
    "plt.rc('xtick', labelsize=11)\n",
    "plt.rc('ytick', labelsize=11)\n",
    "plt.rc('axes', labelsize=12, titlesize=12)\n",
    "plt.rc('legend', fontsize=11)"
   ]
  },
  {
   "cell_type": "code",
   "execution_count": null,
   "metadata": {},
   "outputs": [],
   "source": [
    "import numpy as np\n",
    "import pandas as pd\n",
    "from lifelines.statistics import logrank_test"
   ]
  },
  {
   "cell_type": "code",
   "execution_count": null,
   "metadata": {},
   "outputs": [],
   "source": [
    "m1 = pd.read_csv(nils46)\n",
    "m2 = pd.read_csv(nils9)"
   ]
  },
  {
   "cell_type": "code",
   "execution_count": null,
   "metadata": {},
   "outputs": [],
   "source": [
    "res = []\n",
    "for m, name in zip([m1, m2],\n",
    "                   ['nils46',\n",
    "                    'nils9']):\n",
    "    for strain in m['event'].unique():\n",
    "        x = m[m['event'] == strain]\n",
    "        total = x.shape[0]\n",
    "        res.append([name, strain, 0, total, 1])\n",
    "        tmp = total\n",
    "        for t in sorted(x['time'].unique()):\n",
    "            res.append([name, strain, t, tmp, tmp/total])\n",
    "            tmp = tmp - x[x['time'] == t]['status'].sum()\n",
    "            res.append([name, strain, t, tmp, tmp/total])\n",
    "r = pd.DataFrame(res,\n",
    "                 columns=['set',\n",
    "                          'strain',\n",
    "                          'time',\n",
    "                          'alive',\n",
    "                          'proportion'])"
   ]
  },
  {
   "cell_type": "code",
   "execution_count": null,
   "metadata": {},
   "outputs": [],
   "source": [
    "plt.figure(figsize=(5, 5))\n",
    "\n",
    "dstrain = {'NILS46': 'NILS46',\n",
    "           'NILS9': 'NILS9',\n",
    "           'NILS9Δirp2::0': 'NILS9 Δirp2',\n",
    "           'NILS46Δirp2::0': 'NILS46 Δirp2',}\n",
    "\n",
    "for strain, color, marker in zip(r['strain'].unique(),\n",
    "                                 [sns.xkcd_rgb['pale red'],\n",
    "                                  sns.xkcd_rgb['pale red'],\n",
    "                                  sns.xkcd_rgb['cerulean'],\n",
    "                                  sns.xkcd_rgb['cerulean']],\n",
    "                                 ['-', '--',\n",
    "                                  '-', '--']):\n",
    "    plt.plot(r[r['strain'] == strain]['time'],\n",
    "             r[r['strain'] == strain]['proportion'],\n",
    "             marker,\n",
    "             color=color,\n",
    "             label=dstrain[strain])\n",
    "\n",
    "plt.xlabel('Time (hours)')\n",
    "plt.ylabel('Survival')\n",
    "    \n",
    "plt.legend(title='Strain',\n",
    "           loc='lower left')\n",
    "\n",
    "plt.savefig('survival.png',\n",
    "            dpi=300, bbox_inches='tight',\n",
    "            transparent=True)\n",
    "plt.savefig('survival.svg',\n",
    "            dpi=300, bbox_inches='tight',\n",
    "            transparent=True);"
   ]
  },
  {
   "cell_type": "code",
   "execution_count": null,
   "metadata": {},
   "outputs": [],
   "source": [
    "plt.figure(figsize=(5, 5))\n",
    "\n",
    "dstrain = {'NILS46': 'WT',\n",
    "           'NILS46Δirp2::0': 'Δirp2',}\n",
    "\n",
    "for strain, color, marker in zip(['NILS46', 'NILS46Δirp2::0'],\n",
    "                                 ['k', 'k'],\n",
    "                                 ['-', '--']):\n",
    "    plt.plot(r[r['strain'] == strain]['time'],\n",
    "             r[r['strain'] == strain]['proportion'],\n",
    "             marker,\n",
    "             color=color,\n",
    "             label=dstrain[strain])\n",
    "\n",
    "plt.xlabel('Time (hours)')\n",
    "plt.ylabel('Survival')\n",
    "    \n",
    "plt.title('NILS46', size=13)\n",
    "    \n",
    "plt.legend(title='Strain',\n",
    "           loc='lower left')\n",
    "\n",
    "plt.savefig('survival-46.png',\n",
    "            dpi=300, bbox_inches='tight',\n",
    "            transparent=True)\n",
    "plt.savefig('survival-46.svg',\n",
    "            dpi=300, bbox_inches='tight',\n",
    "            transparent=True);"
   ]
  },
  {
   "cell_type": "code",
   "execution_count": null,
   "metadata": {},
   "outputs": [],
   "source": [
    "plt.figure(figsize=(5, 5))\n",
    "\n",
    "dstrain = {'NILS9': 'WT',\n",
    "           'NILS9Δirp2::0': 'Δirp2',}\n",
    "\n",
    "for strain, color, marker in zip(['NILS9', 'NILS9Δirp2::0'],\n",
    "                                 ['k', 'k'],\n",
    "                                 ['-', '--']):\n",
    "    plt.plot(r[r['strain'] == strain]['time'],\n",
    "             r[r['strain'] == strain]['proportion'],\n",
    "             marker,\n",
    "             color=color,\n",
    "             label=dstrain[strain])\n",
    "\n",
    "plt.xlabel('Time (hours)')\n",
    "plt.ylabel('Survival')\n",
    "    \n",
    "plt.title('NILS9', size=13)\n",
    "    \n",
    "plt.legend(title='Strain',\n",
    "           loc='lower left')\n",
    "\n",
    "plt.savefig('survival-9.png',\n",
    "            dpi=300, bbox_inches='tight',\n",
    "            transparent=True)\n",
    "plt.savefig('survival-9.svg',\n",
    "            dpi=300, bbox_inches='tight',\n",
    "            transparent=True);"
   ]
  },
  {
   "cell_type": "code",
   "execution_count": null,
   "metadata": {},
   "outputs": [],
   "source": [
    "results = logrank_test(m1[m1['event'] == 'NILS46']['time'],\n",
    "                       m1[m1['event'] != 'NILS46']['time'],\n",
    "                       m1[m1['event'] == 'NILS46']['status'],\n",
    "                       m1[m1['event'] != 'NILS46']['status'])\n",
    "\n",
    "results.print_summary()"
   ]
  },
  {
   "cell_type": "code",
   "execution_count": null,
   "metadata": {},
   "outputs": [],
   "source": [
    "results.p_value"
   ]
  },
  {
   "cell_type": "code",
   "execution_count": null,
   "metadata": {},
   "outputs": [],
   "source": [
    "results = logrank_test(m2[m2['event'] == 'NILS9']['time'],\n",
    "                       m2[m2['event'] != 'NILS9']['time'],\n",
    "                       m2[m2['event'] == 'NILS9']['status'],\n",
    "                       m2[m2['event'] != 'NILS9']['status'])\n",
    "\n",
    "results.print_summary()"
   ]
  },
  {
   "cell_type": "code",
   "execution_count": null,
   "metadata": {},
   "outputs": [],
   "source": [
    "results.p_value"
   ]
  }
 ],
 "metadata": {
  "kernelspec": {
   "display_name": "Python 3",
   "language": "python",
   "name": "python3"
  },
  "language_info": {
   "codemirror_mode": {
    "name": "ipython",
    "version": 3
   },
   "file_extension": ".py",
   "mimetype": "text/x-python",
   "name": "python",
   "nbconvert_exporter": "python",
   "pygments_lexer": "ipython3",
   "version": "3.7.5"
  }
 },
 "nbformat": 4,
 "nbformat_minor": 2
}
