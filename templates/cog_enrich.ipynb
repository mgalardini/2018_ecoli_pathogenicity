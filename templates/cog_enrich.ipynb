{
 "cells": [
  {
   "cell_type": "code",
   "execution_count": null,
   "metadata": {},
   "outputs": [],
   "source": [
    "ref = '../out/associations/IAI39.tsv'\n",
    "associated = '../out/associations/associated.eggnogg.tsv'\n",
    "summary = '../out/associations/summary_cont_lmm_kmer.tsv'\n",
    "roary = '../out/roary/gene_presence_absence.csv'\n",
    "names = '../out/associations/associated_ogs.final.tsv'\n",
    "hpi = '../data/hpi.tsv'\n",
    "others = '../data/others.tsv'"
   ]
  },
  {
   "cell_type": "code",
   "execution_count": null,
   "metadata": {},
   "outputs": [],
   "source": [
    "import matplotlib.pyplot as plt\n",
    "import seaborn as sns\n",
    "\n",
    "sns.set_style('white')"
   ]
  },
  {
   "cell_type": "code",
   "execution_count": null,
   "metadata": {},
   "outputs": [],
   "source": [
    "import numpy as np\n",
    "import pandas as pd\n",
    "from scipy import stats\n",
    "import statsmodels.api as sm\n",
    "from goatools.obo_parser import GODag\n",
    "from goatools.goea.go_enrichment_ns import GOEnrichmentStudy"
   ]
  },
  {
   "cell_type": "code",
   "execution_count": null,
   "metadata": {},
   "outputs": [],
   "source": [
    "ogs = set(pd.read_csv(summary, sep='\\t', index_col=0).index)"
   ]
  },
  {
   "cell_type": "code",
   "execution_count": null,
   "metadata": {},
   "outputs": [],
   "source": [
    "cogs = 'ABCDEFGHIJKLMNOPQRSTUYZ'"
   ]
  },
  {
   "cell_type": "code",
   "execution_count": null,
   "metadata": {},
   "outputs": [],
   "source": [
    "pan = pd.read_csv(roary, sep=',', index_col=0, low_memory=False)['IAI39']"
   ]
  },
  {
   "cell_type": "code",
   "execution_count": null,
   "metadata": {},
   "outputs": [],
   "source": [
    "names = pd.read_csv(names, sep='\\t')"
   ]
  },
  {
   "cell_type": "code",
   "execution_count": null,
   "metadata": {},
   "outputs": [],
   "source": [
    "names = names.set_index('query')['preferred_og_name'].to_dict()"
   ]
  },
  {
   "cell_type": "code",
   "execution_count": null,
   "metadata": {},
   "outputs": [],
   "source": [
    "for l in open(hpi):\n",
    "    names[l.split()[0]] = l.rstrip().split()[1]\n",
    "for l in open(others):\n",
    "    for v in l.rstrip().split('\\t')[1:]:\n",
    "        names[v.split(',')[0]] = v.split(',')[1]"
   ]
  },
  {
   "cell_type": "markdown",
   "metadata": {},
   "source": [
    "COG\n",
    "---\n",
    "\n",
    "CELLULAR PROCESSES AND SIGNALING\n",
    "- D Cell cycle control, cell division, chromosome partitioning\n",
    "- M Cell wall/membrane/envelope biogenesis\n",
    "- N Cell motility\n",
    "- O Post-translational modification, protein turnover, and chaperones\n",
    "- T Signal transduction mechanisms\n",
    "- U Intracellular trafficking, secretion, and vesicular transport\n",
    "- V Defense mechanisms\n",
    "- W Extracellular structures\n",
    "- Y Nuclear structure\n",
    "- Z Cytoskeleton\n",
    "\n",
    "INFORMATION STORAGE AND PROCESSING\n",
    "- A RNA processing and modification\n",
    "- B Chromatin structure and dynamics\n",
    "- J Translation, ribosomal structure and biogenesis\n",
    "- K Transcription\n",
    "- L Replication, recombination and repair\n",
    "\n",
    "METABOLISM\n",
    "- C Energy production and conversion\n",
    "- E Amino acid transport and metabolism\n",
    "- F Nucleotide transport and metabolism\n",
    "- G Carbohydrate transport and metabolism\n",
    "- H Coenzyme transport and metabolism\n",
    "- I Lipid transport and metabolism\n",
    "- P Inorganic ion transport and metabolism\n",
    "- Q Secondary metabolites biosynthesis, transport, and catabolism\n",
    "\n",
    "POORLY CHARACTERIZED\n",
    "- R General function prediction only\n",
    "- S Function unknown"
   ]
  },
  {
   "cell_type": "code",
   "execution_count": null,
   "metadata": {},
   "outputs": [],
   "source": [
    "categs = {'D': 'Cell cycle control, cell division, chromosome partitioning',\n",
    "'M': 'Cell wall/membrane/envelope biogenesis',\n",
    "'N': 'Cell motility',\n",
    "'O': 'Post-translational modification, protein turnover, and chaperones',\n",
    "'T': 'Signal transduction mechanisms',\n",
    "'U': 'Intracellular trafficking, secretion, and vesicular transport',\n",
    "'V': 'Defense mechanisms',\n",
    "'W': 'Extracellular structures',\n",
    "'Y': 'Nuclear structure',\n",
    "'Z': 'Cytoskeleton',\n",
    "'A': 'RNA processing and modification',\n",
    "'B': 'Chromatin structure and dynamics',\n",
    "'J': 'Translation, ribosomal structure and biogenesis',\n",
    "'K': 'Transcription',\n",
    "'L': 'Replication, recombination and repair',\n",
    "'C': 'Energy production and conversion',\n",
    "'E': 'Amino acid transport and metabolism',\n",
    "'F': 'Nucleotide transport and metabolism',\n",
    "'G': 'Carbohydrate transport and metabolism',\n",
    "'H': 'Coenzyme transport and metabolism',\n",
    "'I': 'Lipid transport and metabolism',\n",
    "'P': 'Inorganic ion transport and metabolism',\n",
    "'Q': 'Secondary metabolites biosynthesis, transport, and catabolism',\n",
    "'R': 'General function prediction only',\n",
    "'S': 'Function unknown',\n",
    "'X': 'Not annotated'}"
   ]
  },
  {
   "cell_type": "code",
   "execution_count": null,
   "metadata": {},
   "outputs": [],
   "source": [
    "m = pd.read_csv(ref, sep='\\t', skiprows=[0, 1, 2, 3], header=None)\n",
    "m.columns = ['query_name', 'seed_eggNOG_ortholog', 'seed_ortholog_evalue',\n",
    "             'seed_ortholog_score', 'best_tax_level', 'Preferred_name',\n",
    "             'GOs', 'EC', 'KEGG_ko', 'KEGG_Pathway', 'KEGG_Module',\n",
    "             'KEGG_Reaction', 'KEGG_rclass', 'BRITE', 'KEGG_TC',\n",
    "             'CAZy', 'BiGG_Reaction', 'Domain', '?', '??', 'COG_categs',\n",
    "             'COG_annotations']\n",
    "m = m.drop(m.tail(3).index)\n",
    "m.loc[m.index.difference(m['COG_categs'].dropna().index),\n",
    "      'COG_categs'] = 'X'"
   ]
  },
  {
   "cell_type": "code",
   "execution_count": null,
   "metadata": {},
   "outputs": [],
   "source": [
    "n = pd.read_csv(associated, sep='\\t', skiprows=[0, 1, 2, 3], header=None)\n",
    "n.columns = ['query_name', 'seed_eggNOG_ortholog', 'seed_ortholog_evalue',\n",
    "             'seed_ortholog_score', 'best_tax_level', 'Preferred_name',\n",
    "             'GOs', 'EC', 'KEGG_ko', 'KEGG_Pathway', 'KEGG_Module',\n",
    "             'KEGG_Reaction', 'KEGG_rclass', 'BRITE', 'KEGG_TC',\n",
    "             'CAZy', 'BiGG_Reaction', 'Domain', '?', '??', 'COG_categs',\n",
    "             'COG_annotations']\n",
    "n = n.drop(n.tail(3).index)\n",
    "n.loc[n.index.difference(n['COG_categs'].dropna().index),\n",
    "      'COG_categs'] = 'X'"
   ]
  },
  {
   "cell_type": "code",
   "execution_count": null,
   "metadata": {},
   "outputs": [],
   "source": [
    "n = n[n['query_name'].isin(ogs)]"
   ]
  },
  {
   "cell_type": "code",
   "execution_count": null,
   "metadata": {},
   "outputs": [],
   "source": [
    "res = []\n",
    "for cog in cogs + 'X':\n",
    "    pop_c = m[m['COG_categs'].str.contains(cog)].shape[0]\n",
    "    pop_n = m[~m['COG_categs'].str.contains(cog)].shape[0]\n",
    "\n",
    "    study_c = n[n['COG_categs'].str.contains(cog)].shape[0]\n",
    "    study_n = n[~n['COG_categs'].str.contains(cog)].shape[0]\n",
    "\n",
    "    table = [[study_c, pop_c],\n",
    "             [study_n, pop_n]]\n",
    "    odds_ratio, pvalue = stats.fisher_exact(table, alternative='greater')\n",
    "        \n",
    "    # empirical\n",
    "    ratios = []\n",
    "    for _ in range(100):\n",
    "        pop_c = m[m['COG_categs'].str.contains(cog)].shape[0]\n",
    "        pop_n = m[~m['COG_categs'].str.contains(cog)].shape[0]\n",
    "        \n",
    "        r = m.sample(n.shape[0])\n",
    "        study_r_c = r[r['COG_categs'].str.contains(cog)].shape[0]\n",
    "        study_r_n = r[~r['COG_categs'].str.contains(cog)].shape[0]\n",
    "        \n",
    "        table = [[study_r_c, pop_c],\n",
    "                 [study_r_n, pop_n]]\n",
    "        ratios.append(stats.fisher_exact(table, alternative='greater')[0])\n",
    "\n",
    "    zscores = stats.zscore(ratios + [odds_ratio])\n",
    "    pvalues = stats.norm.sf(abs(zscores))\n",
    "    qvalues = sm.stats.multipletests(pvalues, alpha=0.05, method='fdr_bh')[1]\n",
    "    \n",
    "    res.append((cog, categs[cog], pvalue, qvalues[-1]))\n",
    "\n",
    "r = pd.DataFrame(res,\n",
    "                 columns=['cog', 'category', 'pvalue', 'empirical-qvalue'])"
   ]
  },
  {
   "cell_type": "code",
   "execution_count": null,
   "metadata": {},
   "outputs": [],
   "source": [
    "r['qvalue'] = sm.stats.multipletests(r['pvalue'], alpha=0.05, method='fdr_bh')[1]\n",
    "r = r[['cog', 'category', 'pvalue', 'qvalue', 'empirical-qvalue']]"
   ]
  },
  {
   "cell_type": "code",
   "execution_count": null,
   "metadata": {},
   "outputs": [],
   "source": [
    "r[r['empirical-qvalue'] < 0.05]"
   ]
  },
  {
   "cell_type": "code",
   "execution_count": null,
   "metadata": {},
   "outputs": [],
   "source": [
    "r.to_csv('cog.tsv', sep='\\t', index=False)"
   ]
  },
  {
   "cell_type": "markdown",
   "metadata": {},
   "source": [
    "GO terms\n",
    "---"
   ]
  },
  {
   "cell_type": "code",
   "execution_count": null,
   "metadata": {},
   "outputs": [],
   "source": [
    "!wget --quiet -O go-basic.obo \"http://purl.obolibrary.org/obo/go/go-basic.obo\""
   ]
  },
  {
   "cell_type": "code",
   "execution_count": null,
   "metadata": {},
   "outputs": [],
   "source": [
    "obodag = GODag(\"go-basic.obo\")"
   ]
  },
  {
   "cell_type": "code",
   "execution_count": null,
   "metadata": {},
   "outputs": [],
   "source": [
    "og = {}\n",
    "for k, v in pan.dropna().iteritems():\n",
    "    for g in v.split('\\t'):\n",
    "        og[g] = k"
   ]
  },
  {
   "cell_type": "code",
   "execution_count": null,
   "metadata": {},
   "outputs": [],
   "source": [
    "assoc = {og.get(k, k): {y for y in v.split(',')}\n",
    "         for k, v in m.set_index('query_name')['GOs'].dropna().to_dict().items()}\n",
    "for k, v in n.set_index('query_name')['GOs'].dropna().to_dict().items():\n",
    "    if k in assoc:\n",
    "        continue\n",
    "    assoc[k] = {y for y in v.split(',')}"
   ]
  },
  {
   "cell_type": "code",
   "execution_count": null,
   "metadata": {},
   "outputs": [],
   "source": [
    "go = GOEnrichmentStudy(assoc.keys(), assoc, obodag, methods=['fdr_bh'])\n",
    "res = go.run_study(set(n['query_name']))"
   ]
  },
  {
   "cell_type": "code",
   "execution_count": null,
   "metadata": {},
   "outputs": [],
   "source": [
    "passing = [x for x in res\n",
    "           if x.get_pvalue() < 0.05]"
   ]
  },
  {
   "cell_type": "code",
   "execution_count": null,
   "metadata": {},
   "outputs": [],
   "source": [
    "res = []\n",
    "for go in passing:\n",
    "    go.study_items = ['%s' % names.get(x, x) for x in go.study_items]\n",
    "    res.append(str(go).split('\\t'))\n",
    "r = pd.DataFrame(res,\n",
    "                 columns=go.get_prtflds_default())"
   ]
  },
  {
   "cell_type": "code",
   "execution_count": null,
   "metadata": {},
   "outputs": [],
   "source": [
    "r"
   ]
  },
  {
   "cell_type": "code",
   "execution_count": null,
   "metadata": {},
   "outputs": [],
   "source": [
    "r.to_csv('go_terms.tsv', sep='\\t', index=False)"
   ]
  }
 ],
 "metadata": {
  "kernelspec": {
   "display_name": "Python 3",
   "language": "python",
   "name": "python3"
  },
  "language_info": {
   "codemirror_mode": {
    "name": "ipython",
    "version": 3
   },
   "file_extension": ".py",
   "mimetype": "text/x-python",
   "name": "python",
   "nbconvert_exporter": "python",
   "pygments_lexer": "ipython3",
   "version": "3.7.5"
  }
 },
 "nbformat": 4,
 "nbformat_minor": 4
}
